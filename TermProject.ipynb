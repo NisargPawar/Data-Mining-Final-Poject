{
 "cells": [
  {
   "cell_type": "markdown",
   "metadata": {},
   "source": [
    "# **Term Project:**\n",
    "### **Subject:** CSE-5334-003: Data Mining\n",
    "### **Name:** Nisarg Pawar\n",
    "### **ID:** 1001720812"
   ]
  },
  {
   "cell_type": "markdown",
   "metadata": {},
   "source": [
    "**Goal:** Build a Classifier by processing Board Game Reviews dataset and predicts rating of the review. \n",
    " - Try out different techniques of word embedding and vectorizations. \n",
    "     - Vectorization techniques:\n",
    "        - bag of words (word count vector)\n",
    "        - tf-idf vector\n",
    " - Try out different types of vector classification techniques and pick the best solution based on its accuracy over test data.\n",
    "     - classification techniques:\n",
    "        - Linear regression\n",
    "        - Naive Bayes"
   ]
  },
  {
   "cell_type": "markdown",
   "metadata": {},
   "source": [
    "---\n",
    "#### **Process:**\n",
    "- Step 1: Pre-process and clean data and create vocabulary:\n",
    "    - Remove special characters and extra spaces\n",
    "    - Removing single characters - I and a. And others created due to removal of special characters\n",
    "    - Lowercase all text\n",
    "- Step 2: Train, Dev and Test split.\n",
    "- Step 3: Vectorize the document, Remove the stop words\n",
    "    - bag of words (word count vector)\n",
    "    - tf-idf vector\n",
    "- Step 4: Classifier Evaluation:\n",
    "    - Linear regression\n",
    "    - Naive Bayes\n",
    "- Step 5: Evaluation and Hyper-Parameter tuning on Test results:\n",
    "    - max_features= between 100 to 2000 with a jump of 100.\n",
    "- Step 6: Saving and Loading model mechanizm.\n",
    "- Step 7: Store best model."
   ]
  },
  {
   "cell_type": "code",
   "execution_count": 1,
   "metadata": {},
   "outputs": [],
   "source": [
    "# imports\n",
    "import re\n",
    "import os\n",
    "import nltk\n",
    "import math\n",
    "import sklearn\n",
    "import pickle\n",
    "import pandas as pd\n",
    "import numpy as np\n",
    "import seaborn as sns\n",
    "\n",
    "\n",
    "from sklearn.model_selection import train_test_split\n",
    "from sklearn.feature_extraction.text import CountVectorizer, TfidfVectorizer\n",
    "from sklearn.linear_model import LinearRegression\n",
    "from sklearn.naive_bayes import MultinomialNB\n",
    "from sklearn.metrics import accuracy_score, confusion_matrix\n",
    "\n",
    "from nltk.tokenize import RegexpTokenizer"
   ]
  },
  {
   "cell_type": "markdown",
   "metadata": {},
   "source": [
    "---\n",
    "### Exploratory Analysis:\n",
    "- reviewing each file available in the dataset and identifying the relevant one."
   ]
  },
  {
   "cell_type": "code",
   "execution_count": 2,
   "metadata": {},
   "outputs": [
    {
     "name": "stderr",
     "output_type": "stream",
     "text": [
      "/home/nisarg/.local/lib/python3.8/site-packages/numpy/lib/arraysetops.py:580: FutureWarning: elementwise comparison failed; returning scalar instead, but in the future will perform elementwise comparison\n",
      "  mask |= (ar1 == a)\n"
     ]
    },
    {
     "data": {
      "text/html": [
       "<div>\n",
       "<style scoped>\n",
       "    .dataframe tbody tr th:only-of-type {\n",
       "        vertical-align: middle;\n",
       "    }\n",
       "\n",
       "    .dataframe tbody tr th {\n",
       "        vertical-align: top;\n",
       "    }\n",
       "\n",
       "    .dataframe thead th {\n",
       "        text-align: right;\n",
       "    }\n",
       "</style>\n",
       "<table border=\"1\" class=\"dataframe\">\n",
       "  <thead>\n",
       "    <tr style=\"text-align: right;\">\n",
       "      <th></th>\n",
       "      <th>user</th>\n",
       "      <th>rating</th>\n",
       "      <th>comment</th>\n",
       "      <th>ID</th>\n",
       "      <th>name</th>\n",
       "    </tr>\n",
       "  </thead>\n",
       "  <tbody>\n",
       "    <tr>\n",
       "      <th>0</th>\n",
       "      <td>Torsten</td>\n",
       "      <td>10.0</td>\n",
       "      <td>NaN</td>\n",
       "      <td>30549</td>\n",
       "      <td>Pandemic</td>\n",
       "    </tr>\n",
       "    <tr>\n",
       "      <th>1</th>\n",
       "      <td>mitnachtKAUBO-I</td>\n",
       "      <td>10.0</td>\n",
       "      <td>Hands down my favorite new game of BGG CON 200...</td>\n",
       "      <td>30549</td>\n",
       "      <td>Pandemic</td>\n",
       "    </tr>\n",
       "    <tr>\n",
       "      <th>2</th>\n",
       "      <td>avlawn</td>\n",
       "      <td>10.0</td>\n",
       "      <td>I tend to either love or easily tire of co-op ...</td>\n",
       "      <td>30549</td>\n",
       "      <td>Pandemic</td>\n",
       "    </tr>\n",
       "    <tr>\n",
       "      <th>3</th>\n",
       "      <td>Mike Mayer</td>\n",
       "      <td>10.0</td>\n",
       "      <td>NaN</td>\n",
       "      <td>30549</td>\n",
       "      <td>Pandemic</td>\n",
       "    </tr>\n",
       "    <tr>\n",
       "      <th>4</th>\n",
       "      <td>Mease19</td>\n",
       "      <td>10.0</td>\n",
       "      <td>This is an amazing co-op game.  I play mostly ...</td>\n",
       "      <td>30549</td>\n",
       "      <td>Pandemic</td>\n",
       "    </tr>\n",
       "  </tbody>\n",
       "</table>\n",
       "</div>"
      ],
      "text/plain": [
       "              user  rating                                            comment  \\\n",
       "0          Torsten    10.0                                                NaN   \n",
       "1  mitnachtKAUBO-I    10.0  Hands down my favorite new game of BGG CON 200...   \n",
       "2           avlawn    10.0  I tend to either love or easily tire of co-op ...   \n",
       "3       Mike Mayer    10.0                                                NaN   \n",
       "4          Mease19    10.0  This is an amazing co-op game.  I play mostly ...   \n",
       "\n",
       "      ID      name  \n",
       "0  30549  Pandemic  \n",
       "1  30549  Pandemic  \n",
       "2  30549  Pandemic  \n",
       "3  30549  Pandemic  \n",
       "4  30549  Pandemic  "
      ]
     },
     "execution_count": 2,
     "metadata": {},
     "output_type": "execute_result"
    }
   ],
   "source": [
    "f2 = pd.read_csv('archive/bgg-15m-reviews.csv', index_col = 0)\n",
    "f2.head()"
   ]
  },
  {
   "cell_type": "markdown",
   "metadata": {},
   "source": [
    "There are several NaN comments visible, these have no use and should be dropped."
   ]
  },
  {
   "cell_type": "markdown",
   "metadata": {},
   "source": [
    "We also need only two columns = ['comment','rating'] -> [X,y]"
   ]
  },
  {
   "cell_type": "markdown",
   "metadata": {},
   "source": [
    "---\n",
    "### Step 1: Pre-process and clean data:\n",
    " - remove Nan entries.\n",
    " - Remove special characters and extra spaces\n",
    " - Removing single characters - I and a. And others created due to removal of special characters\n",
    " - Lowercase all text"
   ]
  },
  {
   "cell_type": "code",
   "execution_count": 3,
   "metadata": {},
   "outputs": [
    {
     "data": {
      "text/plain": [
       "(15823269, 2)"
      ]
     },
     "execution_count": 3,
     "metadata": {},
     "output_type": "execute_result"
    }
   ],
   "source": [
    "dataset = f2[['comment','rating']]\n",
    "dataset.shape"
   ]
  },
  {
   "cell_type": "code",
   "execution_count": 4,
   "metadata": {},
   "outputs": [
    {
     "data": {
      "text/plain": [
       "(2995023, 2)"
      ]
     },
     "execution_count": 4,
     "metadata": {},
     "output_type": "execute_result"
    }
   ],
   "source": [
    "dataset = dataset.dropna()\n",
    "dataset.shape"
   ]
  },
  {
   "cell_type": "markdown",
   "metadata": {},
   "source": [
    "Substantial dataset size reduction observed."
   ]
  },
  {
   "cell_type": "code",
   "execution_count": 5,
   "metadata": {},
   "outputs": [],
   "source": [
    "dataset['comment'] = dataset['comment'].str.lower() # lowercase text\n",
    "dataset['comment'] = dataset['comment'].apply(lambda x: re.sub(r'[^\\w\\s]', ' ', x)) # remove special characters\n",
    "dataset['comment'] = dataset['comment'].apply(lambda x: re.sub(r'\\s+\\w\\s+', ' ', x)) # remove single characters\n",
    "dataset['comment'] = dataset['comment'].apply(lambda x: re.sub(r'\\s{2,}', ' ', x)) # remove extra spaces"
   ]
  },
  {
   "cell_type": "markdown",
   "metadata": {},
   "source": [
    "#### Some more analysis over data now that its clean:"
   ]
  },
  {
   "cell_type": "code",
   "execution_count": 6,
   "metadata": {},
   "outputs": [
    {
     "data": {
      "text/plain": [
       "4384"
      ]
     },
     "execution_count": 6,
     "metadata": {},
     "output_type": "execute_result"
    }
   ],
   "source": [
    "# class distribution\n",
    "len(dataset['rating'].unique())"
   ]
  },
  {
   "cell_type": "markdown",
   "metadata": {},
   "source": [
    "Rating values look too distributed. It seems we must pre process the ratings as well. Converting each to int. Since they must be between 0 to 10 we shall get the ceiling value and replace the rating. eg: if rating is 5.5 -> 6"
   ]
  },
  {
   "cell_type": "code",
   "execution_count": 7,
   "metadata": {},
   "outputs": [
    {
     "data": {
      "text/plain": [
       "10"
      ]
     },
     "execution_count": 7,
     "metadata": {},
     "output_type": "execute_result"
    }
   ],
   "source": [
    "dataset['rating'] = dataset['rating'].apply(lambda x: int(math.ceil(x)))\n",
    "len(dataset['rating'].unique())"
   ]
  },
  {
   "cell_type": "code",
   "execution_count": 8,
   "metadata": {},
   "outputs": [
    {
     "data": {
      "text/html": [
       "<div>\n",
       "<style scoped>\n",
       "    .dataframe tbody tr th:only-of-type {\n",
       "        vertical-align: middle;\n",
       "    }\n",
       "\n",
       "    .dataframe tbody tr th {\n",
       "        vertical-align: top;\n",
       "    }\n",
       "\n",
       "    .dataframe thead th {\n",
       "        text-align: right;\n",
       "    }\n",
       "</style>\n",
       "<table border=\"1\" class=\"dataframe\">\n",
       "  <thead>\n",
       "    <tr style=\"text-align: right;\">\n",
       "      <th></th>\n",
       "      <th>comment</th>\n",
       "    </tr>\n",
       "    <tr>\n",
       "      <th>rating</th>\n",
       "      <th></th>\n",
       "    </tr>\n",
       "  </thead>\n",
       "  <tbody>\n",
       "    <tr>\n",
       "      <th>1</th>\n",
       "      <td>23180</td>\n",
       "    </tr>\n",
       "    <tr>\n",
       "      <th>2</th>\n",
       "      <td>42388</td>\n",
       "    </tr>\n",
       "    <tr>\n",
       "      <th>3</th>\n",
       "      <td>80821</td>\n",
       "    </tr>\n",
       "    <tr>\n",
       "      <th>4</th>\n",
       "      <td>139998</td>\n",
       "    </tr>\n",
       "    <tr>\n",
       "      <th>5</th>\n",
       "      <td>250352</td>\n",
       "    </tr>\n",
       "    <tr>\n",
       "      <th>6</th>\n",
       "      <td>484227</td>\n",
       "    </tr>\n",
       "    <tr>\n",
       "      <th>7</th>\n",
       "      <td>728052</td>\n",
       "    </tr>\n",
       "    <tr>\n",
       "      <th>8</th>\n",
       "      <td>689314</td>\n",
       "    </tr>\n",
       "    <tr>\n",
       "      <th>9</th>\n",
       "      <td>362248</td>\n",
       "    </tr>\n",
       "    <tr>\n",
       "      <th>10</th>\n",
       "      <td>194443</td>\n",
       "    </tr>\n",
       "  </tbody>\n",
       "</table>\n",
       "</div>"
      ],
      "text/plain": [
       "        comment\n",
       "rating         \n",
       "1         23180\n",
       "2         42388\n",
       "3         80821\n",
       "4        139998\n",
       "5        250352\n",
       "6        484227\n",
       "7        728052\n",
       "8        689314\n",
       "9        362248\n",
       "10       194443"
      ]
     },
     "execution_count": 8,
     "metadata": {},
     "output_type": "execute_result"
    }
   ],
   "source": [
    "result = dataset.groupby('rating').count()\n",
    "result"
   ]
  },
  {
   "cell_type": "code",
   "execution_count": 9,
   "metadata": {},
   "outputs": [
    {
     "data": {
      "text/plain": [
       "<AxesSubplot:xlabel='rating'>"
      ]
     },
     "execution_count": 9,
     "metadata": {},
     "output_type": "execute_result"
    },
    {
     "data": {
      "image/png": "[encoded data removed]",
      "text/plain": [
       "<Figure size 720x720 with 1 Axes>"
      ]
     },
     "metadata": {
      "needs_background": "light"
     },
     "output_type": "display_data"
    }
   ],
   "source": [
    "import matplotlib.pyplot as plt\n",
    "plt.rcParams['figure.figsize'] = (10,10)\n",
    "\n",
    "result.plot(kind='bar')"
   ]
  },
  {
   "cell_type": "markdown",
   "metadata": {},
   "source": [
    "#### Now, We analyse the length of reviews in terms of words."
   ]
  },
  {
   "cell_type": "code",
   "execution_count": 10,
   "metadata": {},
   "outputs": [
    {
     "name": "stdout",
     "output_type": "stream",
     "text": [
      "total words: 109051870\n",
      "total unique words: 686137\n",
      "Max sentence length is:  4346\n",
      "Average length:  36.411029230827275\n"
     ]
    }
   ],
   "source": [
    "tokenizer = RegexpTokenizer(r'\\w+')\n",
    "\n",
    "dataset[\"words\"] = dataset[\"comment\"].apply(tokenizer.tokenize)\n",
    "\n",
    "word_list = [word for words in dataset[\"words\"] for word in words]\n",
    "rev_len = [len(words) for words in dataset[\"words\"]]\n",
    "vocabulary = sorted(list(set(word_list))) # unique list of words A-Z\n",
    "print(\"total words:\",len(word_list))\n",
    "print(\"total unique words:\",len(vocabulary))\n",
    "print(\"Max sentence length is: \", max(rev_len))\n",
    "print(\"Average length: \", np.mean(rev_len))"
   ]
  },
  {
   "cell_type": "code",
   "execution_count": 11,
   "metadata": {},
   "outputs": [],
   "source": [
    "dataset.to_csv('dataset.csv',index=False)"
   ]
  },
  {
   "cell_type": "code",
   "execution_count": 2,
   "metadata": {},
   "outputs": [],
   "source": [
    "dataset = pd.read_csv('dataset.csv') "
   ]
  },
  {
   "cell_type": "markdown",
   "metadata": {},
   "source": [
    " - Each review is about 37 words, however we still have to remove stop words, so this value might get even lower in later part.\n",
    " - there are a total of 686k unique words, Using all of these words is as feature is cumputationally intensive an unnecessary since a lot of them are stop words and words with very low frequency."
   ]
  },
  {
   "cell_type": "markdown",
   "metadata": {},
   "source": [
    "---\n",
    "### Step 2: Train and Test split."
   ]
  },
  {
   "cell_type": "code",
   "execution_count": 3,
   "metadata": {},
   "outputs": [
    {
     "name": "stdout",
     "output_type": "stream",
     "text": [
      "Training set len:  2396018\n",
      "Test set len:  599005\n"
     ]
    }
   ],
   "source": [
    "X = dataset['comment']\n",
    "y = dataset['rating']\n",
    "X_train, X_test, y_train, y_test = train_test_split(X, y, test_size=0.2, random_state=0) # train test split of 80:20\n",
    "\n",
    "print(\"Training set len: \", len(X_train))\n",
    "print(\"Test set len: \", len(X_test))"
   ]
  },
  {
   "cell_type": "markdown",
   "metadata": {},
   "source": [
    "---\n",
    "### Step 3: Vectorize the document, Remove the stop words\n",
    "#### Bag of Words:\n",
    " - Since the list of unique words is too big, we will be picking the top 500 words as our features. This becomes a hyper-parameter to the process!"
   ]
  },
  {
   "cell_type": "code",
   "execution_count": 4,
   "metadata": {},
   "outputs": [],
   "source": [
    "# bag of words:\n",
    "cv = CountVectorizer(max_features = 500, analyzer='word', token_pattern=r'\\w+',stop_words='english') # word pattern as token pattern"
   ]
  },
  {
   "cell_type": "code",
   "execution_count": 5,
   "metadata": {},
   "outputs": [],
   "source": [
    "BOW = dict() # a dict to store bag of words for both train and test\n",
    "BOW[\"train\"] = (cv.fit_transform(X_train), y_train)\n",
    "BOW[\"test\"]  = (cv.transform(X_test), y_test)"
   ]
  },
  {
   "cell_type": "code",
   "execution_count": 6,
   "metadata": {},
   "outputs": [
    {
     "name": "stdout",
     "output_type": "stream",
     "text": [
      "(2396018, 500)\n",
      "(599005, 500)\n"
     ]
    }
   ],
   "source": [
    "print(BOW[\"train\"][0].shape)\n",
    "print(BOW[\"test\"][0].shape)"
   ]
  },
  {
   "cell_type": "markdown",
   "metadata": {},
   "source": [
    "#### TF-IDF vectors:\n",
    " - For this too, we pick only the top 500 words."
   ]
  },
  {
   "cell_type": "code",
   "execution_count": 7,
   "metadata": {},
   "outputs": [],
   "source": [
    "tv = TfidfVectorizer(max_features = 500, analyzer='word', token_pattern=r'\\w+', stop_words='english')"
   ]
  },
  {
   "cell_type": "code",
   "execution_count": 8,
   "metadata": {},
   "outputs": [],
   "source": [
    "BOW_tv = dict() # a dict to store bag of words for both train and test\n",
    "BOW_tv[\"train\"] = (tv.fit_transform(X_train), y_train)\n",
    "BOW_tv[\"test\"]  = (tv.transform(X_test), y_test)"
   ]
  },
  {
   "cell_type": "markdown",
   "metadata": {},
   "source": [
    "---\n",
    "### Step 4: Classifier Evaluation:\n",
    "    - Linear regression\n",
    "    - Naive Bayes"
   ]
  },
  {
   "cell_type": "code",
   "execution_count": 9,
   "metadata": {},
   "outputs": [],
   "source": [
    "# Evaluations\n",
    "def get_performance_metrics(y, y_pred):\n",
    "    acc = accuracy_score(y, y_pred)\n",
    "    cm = confusion_matrix(y, y_pred)\n",
    "    return acc, cm"
   ]
  },
  {
   "cell_type": "code",
   "execution_count": 10,
   "metadata": {},
   "outputs": [],
   "source": [
    "conversion = np.vectorize(lambda x: int(math.ceil(x)))"
   ]
  },
  {
   "cell_type": "code",
   "execution_count": 19,
   "metadata": {},
   "outputs": [],
   "source": [
    "def show_performance(model,bow):\n",
    "\n",
    "    model.fit(bow[\"train\"][0],bow[\"train\"][1])\n",
    "        \n",
    "    y_tr_pred = model.predict(bow[\"train\"][0])\n",
    "    y_tr_pred = conversion(y_tr_pred)\n",
    "    acc_tr, cm = get_performance_metrics(bow[\"train\"][1], y_tr_pred)\n",
    "    print(\"Model accuracy on training data (percent):\", round(acc_tr * 100,4))\n",
    "    \n",
    "    y_pred = model.predict(bow[\"test\"][0])\n",
    "    y_pred = conversion(y_pred)\n",
    "    acc_te, cm = get_performance_metrics(bow[\"test\"][1], y_pred)\n",
    "    print(\"Model accuracy on test data (percent):\", round(acc_te * 100,4))\n",
    "    \n",
    "    return acc_te, cm\n",
    "    "
   ]
  },
  {
   "cell_type": "markdown",
   "metadata": {},
   "source": [
    "#### Linear Regression:"
   ]
  },
  {
   "cell_type": "code",
   "execution_count": 12,
   "metadata": {},
   "outputs": [],
   "source": [
    "lr = LinearRegression()"
   ]
  },
  {
   "cell_type": "markdown",
   "metadata": {},
   "source": [
    "**1) Using bag of words:**"
   ]
  },
  {
   "cell_type": "code",
   "execution_count": 13,
   "metadata": {},
   "outputs": [
    {
     "name": "stdout",
     "output_type": "stream",
     "text": [
      "Model accuracy on training data (percent): 27.2093\n",
      "Model accuracy on test data (percent): 27.1919\n"
     ]
    }
   ],
   "source": [
    "acc, cm = show_performance(lr, BOW)"
   ]
  },
  {
   "cell_type": "code",
   "execution_count": 14,
   "metadata": {},
   "outputs": [
    {
     "data": {
      "image/png": "[encoded data removed]",
      "text/plain": [
       "<Figure size 432x288 with 2 Axes>"
      ]
     },
     "metadata": {
      "needs_background": "light"
     },
     "output_type": "display_data"
    }
   ],
   "source": [
    "df_cm = pd.DataFrame(cm, range(1,len(cm)+1), range(1,len(cm)+1))\n",
    "sns.heatmap(df_cm, annot=True);"
   ]
  },
  {
   "cell_type": "markdown",
   "metadata": {},
   "source": [
    "Since there are 10 classes and 3 classifications in confusion matrix, the matrix graph is 30x30. Visualizing i might not give much relevant information. Thus we prefer relying on accuracy for deciding the best model.  "
   ]
  },
  {
   "cell_type": "markdown",
   "metadata": {},
   "source": [
    "**2) using TF-IDF:**"
   ]
  },
  {
   "cell_type": "code",
   "execution_count": 15,
   "metadata": {},
   "outputs": [
    {
     "name": "stdout",
     "output_type": "stream",
     "text": [
      "Model accuracy on training data (percent): 27.3052\n",
      "Model accuracy on test data (percent): 27.3382\n"
     ]
    }
   ],
   "source": [
    "op = show_performance(lr, BOW_tv)"
   ]
  },
  {
   "cell_type": "markdown",
   "metadata": {},
   "source": [
    "No significant performance improvement"
   ]
  },
  {
   "cell_type": "markdown",
   "metadata": {},
   "source": [
    "#### Naive Bayes:"
   ]
  },
  {
   "cell_type": "code",
   "execution_count": 20,
   "metadata": {},
   "outputs": [],
   "source": [
    "nb = MultinomialNB()"
   ]
  },
  {
   "cell_type": "markdown",
   "metadata": {},
   "source": [
    "**1) Simple bag of words:**"
   ]
  },
  {
   "cell_type": "code",
   "execution_count": 21,
   "metadata": {},
   "outputs": [
    {
     "name": "stdout",
     "output_type": "stream",
     "text": [
      "Model accuracy on training data (percent): 28.5343\n",
      "Model accuracy on test data (percent): 28.4256\n"
     ]
    }
   ],
   "source": [
    "op = show_performance(nb,BOW)"
   ]
  },
  {
   "cell_type": "markdown",
   "metadata": {},
   "source": [
    "**2) TF-IDF:**"
   ]
  },
  {
   "cell_type": "code",
   "execution_count": 22,
   "metadata": {},
   "outputs": [
    {
     "name": "stdout",
     "output_type": "stream",
     "text": [
      "Model accuracy on training data (percent): 28.0514\n",
      "Model accuracy on test data (percent): 27.9887\n"
     ]
    }
   ],
   "source": [
    "op = show_performance(nb,BOW_tv)"
   ]
  },
  {
   "cell_type": "markdown",
   "metadata": {},
   "source": [
    "---\n",
    "### Step 5: Evaluation and Hyper-Parameter tuning on Test results:"
   ]
  },
  {
   "cell_type": "markdown",
   "metadata": {},
   "source": [
    "The goal here is to see if modifying the number of features and affects the output accuracy of classifiers. We will be trying out 20 such feature values starting from 100 to 2000 skipping 100 everytime, and recording the test accuracies."
   ]
  },
  {
   "cell_type": "code",
   "execution_count": 6,
   "metadata": {},
   "outputs": [
    {
     "name": "stdout",
     "output_type": "stream",
     "text": [
      "[ 100.  200.  300.  400.  500.  600.  700.  800.  900. 1000. 1100. 1200.\n",
      " 1300. 1400. 1500. 1600. 1700. 1800. 1900. 2000.]\n"
     ]
    }
   ],
   "source": [
    "n_features = np.linspace(100,2000,20)\n",
    "print(n_features)"
   ]
  },
  {
   "cell_type": "code",
   "execution_count": 23,
   "metadata": {},
   "outputs": [],
   "source": [
    "def calc_performance(model,bow):\n",
    "\n",
    "    model.fit(bow[\"train\"][0],bow[\"train\"][1])\n",
    "    y_pred = model.predict(bow[\"test\"][0])\n",
    "    y_pred = conversion(y_pred)\n",
    "    acc, cm = get_performance_metrics(bow[\"test\"][1], y_pred)\n",
    "    print(\"Model accuracy on test data (percent):\", round(acc * 100,4))\n",
    "    \n",
    "    return acc, cm\n",
    "\n",
    "def generate_bow(features,tf=False):\n",
    "    bow = dict()\n",
    "    if tf:\n",
    "        tv = TfidfVectorizer(max_features = int(features), analyzer='word', token_pattern=r'\\w+', stop_words='english')\n",
    "        bow[\"train\"] = (tv.fit_transform(X_train), y_train)\n",
    "        bow[\"test\"]  = (tv.transform(X_test), y_test)\n",
    "    else:\n",
    "        cv = CountVectorizer(max_features = int(features), analyzer='word', token_pattern=r'\\w+',stop_words='english')\n",
    "        bow[\"train\"] = (cv.fit_transform(X_train), y_train)\n",
    "        bow[\"test\"]  = (cv.transform(X_test), y_test)\n",
    "    return bow\n",
    "        "
   ]
  },
  {
   "cell_type": "code",
   "execution_count": 23,
   "metadata": {},
   "outputs": [
    {
     "name": "stdout",
     "output_type": "stream",
     "text": [
      "Model accuracy on test data (percent): 27.8151\n",
      "{'vector-type': 'bow', 'classifier': 'lr', 'n_features': 1300.0, 'accuracy': 0.27815126751863506}\n",
      "Model accuracy on test data (percent): 28.0517\n",
      "{'vector-type': 'tfidf', 'classifier': 'lr', 'n_features': 1300.0, 'accuracy': 0.28051685712139296}\n",
      "Model accuracy on test data (percent): 29.4013\n",
      "{'vector-type': 'bow', 'classifier': 'nb', 'n_features': 1300.0, 'accuracy': 0.29401257084665405}\n",
      "Model accuracy on test data (percent): 28.7433\n",
      "{'vector-type': 'tfidf', 'classifier': 'nb', 'n_features': 1300.0, 'accuracy': 0.28743332693383195}\n",
      "Model accuracy on test data (percent): 27.8465\n",
      "{'vector-type': 'bow', 'classifier': 'lr', 'n_features': 1400.0, 'accuracy': 0.27846512132619927}\n",
      "Model accuracy on test data (percent): 28.0746\n",
      "{'vector-type': 'tfidf', 'classifier': 'lr', 'n_features': 1400.0, 'accuracy': 0.2807455697364797}\n",
      "Model accuracy on test data (percent): 29.4171\n",
      "{'vector-type': 'bow', 'classifier': 'nb', 'n_features': 1400.0, 'accuracy': 0.2941711671855828}\n",
      "Model accuracy on test data (percent): 28.7882\n",
      "{'vector-type': 'tfidf', 'classifier': 'nb', 'n_features': 1400.0, 'accuracy': 0.2878824049882722}\n",
      "Model accuracy on test data (percent): 27.8749\n",
      "{'vector-type': 'bow', 'classifier': 'lr', 'n_features': 1500.0, 'accuracy': 0.2787489253011244}\n",
      "Model accuracy on test data (percent): 28.135\n",
      "{'vector-type': 'tfidf', 'classifier': 'lr', 'n_features': 1500.0, 'accuracy': 0.28134990525955544}\n",
      "Model accuracy on test data (percent): 29.435\n",
      "{'vector-type': 'bow', 'classifier': 'nb', 'n_features': 1500.0, 'accuracy': 0.2943497967462709}\n",
      "Model accuracy on test data (percent): 28.8208\n",
      "{'vector-type': 'tfidf', 'classifier': 'nb', 'n_features': 1500.0, 'accuracy': 0.28820794484186274}\n",
      "Model accuracy on test data (percent): 27.8914\n",
      "{'vector-type': 'bow', 'classifier': 'lr', 'n_features': 1600.0, 'accuracy': 0.27891419938063955}\n",
      "Model accuracy on test data (percent): 28.1433\n",
      "{'vector-type': 'tfidf', 'classifier': 'lr', 'n_features': 1600.0, 'accuracy': 0.2814333770168863}\n",
      "Model accuracy on test data (percent): 29.4565\n",
      "{'vector-type': 'bow', 'classifier': 'nb', 'n_features': 1600.0, 'accuracy': 0.2945651538801846}\n",
      "Model accuracy on test data (percent): 28.8617\n",
      "{'vector-type': 'tfidf', 'classifier': 'nb', 'n_features': 1600.0, 'accuracy': 0.2886169564527842}\n",
      "Model accuracy on test data (percent): 27.9307\n",
      "{'vector-type': 'bow', 'classifier': 'lr', 'n_features': 1700.0, 'accuracy': 0.2793065166400948}\n",
      "Model accuracy on test data (percent): 28.1969\n",
      "{'vector-type': 'tfidf', 'classifier': 'lr', 'n_features': 1700.0, 'accuracy': 0.28196926569895076}\n",
      "Model accuracy on test data (percent): 29.5053\n",
      "{'vector-type': 'bow', 'classifier': 'nb', 'n_features': 1700.0, 'accuracy': 0.29505262894299716}\n",
      "Model accuracy on test data (percent): 28.9023\n",
      "{'vector-type': 'tfidf', 'classifier': 'nb', 'n_features': 1700.0, 'accuracy': 0.28902262919341243}\n",
      "Model accuracy on test data (percent): 27.9243\n",
      "{'vector-type': 'bow', 'classifier': 'lr', 'n_features': 1800.0, 'accuracy': 0.2792430781045233}\n",
      "Model accuracy on test data (percent): 28.2133\n",
      "{'vector-type': 'tfidf', 'classifier': 'lr', 'n_features': 1800.0, 'accuracy': 0.28213287034331935}\n",
      "Model accuracy on test data (percent): 29.5231\n",
      "{'vector-type': 'bow', 'classifier': 'nb', 'n_features': 1800.0, 'accuracy': 0.29523125850368526}\n",
      "Model accuracy on test data (percent): 28.9143\n",
      "{'vector-type': 'tfidf', 'classifier': 'nb', 'n_features': 1800.0, 'accuracy': 0.28914282852396894}\n",
      "Model accuracy on test data (percent): 27.9433\n",
      "{'vector-type': 'bow', 'classifier': 'lr', 'n_features': 1900.0, 'accuracy': 0.2794333937112378}\n",
      "Model accuracy on test data (percent): 28.2605\n",
      "{'vector-type': 'tfidf', 'classifier': 'lr', 'n_features': 1900.0, 'accuracy': 0.2826053204898123}\n",
      "Model accuracy on test data (percent): 29.5579\n",
      "{'vector-type': 'bow', 'classifier': 'nb', 'n_features': 1900.0, 'accuracy': 0.29557850101418187}\n",
      "Model accuracy on test data (percent): 28.9565\n",
      "{'vector-type': 'tfidf', 'classifier': 'nb', 'n_features': 1900.0, 'accuracy': 0.2895651956160633}\n",
      "Model accuracy on test data (percent): 27.9697\n",
      "{'vector-type': 'bow', 'classifier': 'lr', 'n_features': 2000.0, 'accuracy': 0.27969716446440346}\n",
      "Model accuracy on test data (percent): 28.2757\n",
      "{'vector-type': 'tfidf', 'classifier': 'lr', 'n_features': 2000.0, 'accuracy': 0.28275723908815453}\n",
      "Model accuracy on test data (percent): 29.5759\n",
      "{'vector-type': 'bow', 'classifier': 'nb', 'n_features': 2000.0, 'accuracy': 0.2957588000100166}\n",
      "Model accuracy on test data (percent): 28.9837\n",
      "{'vector-type': 'tfidf', 'classifier': 'nb', 'n_features': 2000.0, 'accuracy': 0.28983731354496206}\n"
     ]
    }
   ],
   "source": [
    "accuracies = pd.DataFrame(columns = ['vector-type', 'classifier', 'n_features', 'accuracy'])\n",
    "for n_f in n_features:\n",
    "    \n",
    "    lr = LinearRegression()\n",
    "    nb = MultinomialNB()\n",
    "    \n",
    "    #linear\n",
    "    # bag of words\n",
    "    bow = generate_bow(n_f)\n",
    "    result = calc_performance(lr,bow)\n",
    "    accuracies = accuracies.append({'vector-type':'bow', 'classifier': 'lr', 'n_features': n_f, 'accuracy': result[0]}, ignore_index=True)\n",
    "    print({'vector-type':'bow', 'classifier': 'lr', 'n_features': n_f, 'accuracy': result[0]})\n",
    "    \n",
    "    # tf-idf\n",
    "    bow = generate_bow(n_f, True)\n",
    "    result = calc_performance(lr,bow)\n",
    "    accuracies = accuracies.append({'vector-type':'tfidf', 'classifier': 'lr', 'n_features': n_f, 'accuracy': result[0]}, ignore_index=True)\n",
    "    print({'vector-type':'tfidf', 'classifier': 'lr', 'n_features': n_f, 'accuracy': result[0]})\n",
    "    \n",
    "    # nbc\n",
    "    # bag of words\n",
    "    bow = generate_bow(n_f)\n",
    "    result = calc_performance(nb,bow)\n",
    "    accuracies = accuracies.append({'vector-type':'bow', 'classifier': 'nb', 'n_features': n_f, 'accuracy': result[0]}, ignore_index=True)\n",
    "    print({'vector-type':'bow', 'classifier': 'nb', 'n_features': n_f, 'accuracy': result[0]})\n",
    "    \n",
    "    # tf-idf\n",
    "    bow = generate_bow(n_f, True)\n",
    "    result = calc_performance(nb,bow)\n",
    "    accuracies = accuracies.append({'vector-type':'tfidf', 'classifier': 'nb', 'n_features': n_f, 'accuracy': result[0]}, ignore_index=True)\n",
    "    print({'vector-type':'tfidf', 'classifier': 'nb', 'n_features': n_f, 'accuracy': result[0]})"
   ]
  },
  {
   "cell_type": "markdown",
   "metadata": {},
   "source": [
    "Only showing from 1300 to 2000, previous data collected separately and partially since this step is extremely resource intensive and kept crashing the kernel again and again."
   ]
  },
  {
   "cell_type": "code",
   "execution_count": 25,
   "metadata": {},
   "outputs": [],
   "source": [
    "accuracies.to_csv('acc.csv',index=False)"
   ]
  },
  {
   "cell_type": "code",
   "execution_count": 26,
   "metadata": {},
   "outputs": [],
   "source": [
    "accuracies = pd.read_csv('acc.csv')"
   ]
  },
  {
   "cell_type": "code",
   "execution_count": 27,
   "metadata": {},
   "outputs": [
    {
     "data": {
      "text/html": [
       "<div>\n",
       "<style scoped>\n",
       "    .dataframe tbody tr th:only-of-type {\n",
       "        vertical-align: middle;\n",
       "    }\n",
       "\n",
       "    .dataframe tbody tr th {\n",
       "        vertical-align: top;\n",
       "    }\n",
       "\n",
       "    .dataframe thead th {\n",
       "        text-align: right;\n",
       "    }\n",
       "</style>\n",
       "<table border=\"1\" class=\"dataframe\">\n",
       "  <thead>\n",
       "    <tr style=\"text-align: right;\">\n",
       "      <th></th>\n",
       "      <th>vector-type</th>\n",
       "      <th>classifier</th>\n",
       "      <th>n_features</th>\n",
       "      <th>accuracy</th>\n",
       "    </tr>\n",
       "  </thead>\n",
       "  <tbody>\n",
       "    <tr>\n",
       "      <th>30</th>\n",
       "      <td>bow</td>\n",
       "      <td>nb</td>\n",
       "      <td>2000.0</td>\n",
       "      <td>0.295759</td>\n",
       "    </tr>\n",
       "    <tr>\n",
       "      <th>26</th>\n",
       "      <td>bow</td>\n",
       "      <td>nb</td>\n",
       "      <td>1900.0</td>\n",
       "      <td>0.295579</td>\n",
       "    </tr>\n",
       "    <tr>\n",
       "      <th>22</th>\n",
       "      <td>bow</td>\n",
       "      <td>nb</td>\n",
       "      <td>1800.0</td>\n",
       "      <td>0.295231</td>\n",
       "    </tr>\n",
       "    <tr>\n",
       "      <th>18</th>\n",
       "      <td>bow</td>\n",
       "      <td>nb</td>\n",
       "      <td>1700.0</td>\n",
       "      <td>0.295053</td>\n",
       "    </tr>\n",
       "    <tr>\n",
       "      <th>14</th>\n",
       "      <td>bow</td>\n",
       "      <td>nb</td>\n",
       "      <td>1600.0</td>\n",
       "      <td>0.294565</td>\n",
       "    </tr>\n",
       "  </tbody>\n",
       "</table>\n",
       "</div>"
      ],
      "text/plain": [
       "   vector-type classifier  n_features  accuracy\n",
       "30         bow         nb      2000.0  0.295759\n",
       "26         bow         nb      1900.0  0.295579\n",
       "22         bow         nb      1800.0  0.295231\n",
       "18         bow         nb      1700.0  0.295053\n",
       "14         bow         nb      1600.0  0.294565"
      ]
     },
     "execution_count": 27,
     "metadata": {},
     "output_type": "execute_result"
    }
   ],
   "source": [
    "accuracies.sort_values(by = ['accuracy'],ascending=False)[:5] # top 5 results"
   ]
  },
  {
   "cell_type": "markdown",
   "metadata": {},
   "source": [
    "As per the above list, Naive Bayes usign Bag of words seems to have given the best results so far, where number of features = 2000"
   ]
  },
  {
   "cell_type": "markdown",
   "metadata": {},
   "source": [
    "So we Our final model for this problem is using naive bayes over the bag of words made of the top 2000 high frequency words. "
   ]
  },
  {
   "cell_type": "markdown",
   "metadata": {},
   "source": [
    "---\n",
    "### Step 6: Saving and Loading model mechanizm:\n",
    " - using pickle to store the classifier model\n",
    " - since its our final model, lets use the entire dataset to train\n",
    " - we will use this model on live dataset for prediction."
   ]
  },
  {
   "cell_type": "code",
   "execution_count": 28,
   "metadata": {},
   "outputs": [],
   "source": [
    "# using entire dataset for final training\n",
    "X_train = X\n",
    "y_train = y"
   ]
  },
  {
   "cell_type": "code",
   "execution_count": 29,
   "metadata": {},
   "outputs": [],
   "source": [
    "cv = CountVectorizer(max_features = 2000, analyzer='word', token_pattern=r'\\w+',stop_words='english') \n",
    "cv_model = cv.fit(X)"
   ]
  },
  {
   "cell_type": "code",
   "execution_count": 30,
   "metadata": {},
   "outputs": [],
   "source": [
    "pickle.dump(cv,open('cv_vectorizer','wb'))"
   ]
  },
  {
   "cell_type": "code",
   "execution_count": 32,
   "metadata": {},
   "outputs": [],
   "source": [
    "bow = generate_bow(2000)\n",
    "nb = MultinomialNB().fit(bow['train'][0],bow['train'][1])\n",
    "pickle.dump(nb,open('nb_classifier','wb'))"
   ]
  },
  {
   "cell_type": "code",
   "execution_count": 33,
   "metadata": {},
   "outputs": [],
   "source": [
    "model = pickle.load(open('nb_classifier', 'rb'))"
   ]
  },
  {
   "cell_type": "markdown",
   "metadata": {},
   "source": [
    "### References:\n",
    "The resources and previous experiments that were referred to implement this project\n",
    " - https://stackabuse.com/text-classification-with-python-and-scikit-learn/\n",
    " - https://towardsdatascience.com/training-a-naive-bayes-model-to-identify-the-author-of-an-email-or-document-17dc85fa630a\n",
    " - https://www.kaggle.com/loryn808/baseline-bag-of-words-linear-regression"
   ]
  }
 ],
 "metadata": {
  "kernelspec": {
   "display_name": "Python 3",
   "language": "python",
   "name": "python3"
  },
  "language_info": {
   "codemirror_mode": {
    "name": "ipython",
    "version": 3
   },
   "file_extension": ".py",
   "mimetype": "text/x-python",
   "name": "python",
   "nbconvert_exporter": "python",
   "pygments_lexer": "ipython3",
   "version": "3.8.5"
  }
 },
 "nbformat": 4,
 "nbformat_minor": 4
}
